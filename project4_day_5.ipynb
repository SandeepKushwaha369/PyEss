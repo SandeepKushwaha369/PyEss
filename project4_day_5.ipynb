{
 "cells": [
  {
   "cell_type": "code",
   "execution_count": 1,
   "metadata": {},
   "outputs": [],
   "source": [
    "# Day 4 Agenda ->\n",
    "# Function\n",
    "# Build your own Library"
   ]
  },
  {
   "cell_type": "code",
   "execution_count": null,
   "metadata": {},
   "outputs": [],
   "source": [
    "# Function are used for reducing the number of lines of code,\n",
    "# Function.s help us reuse code\n",
    "# Function help us not repeating the code n Number of time with same work"
   ]
  },
  {
   "cell_type": "code",
   "execution_count": 3,
   "metadata": {},
   "outputs": [],
   "source": [
    "def sampleFun():\n",
    "    print(\"I am God\")"
   ]
  },
  {
   "cell_type": "code",
   "execution_count": 6,
   "metadata": {},
   "outputs": [
    {
     "name": "stdout",
     "output_type": "stream",
     "text": [
      "I am God\n"
     ]
    }
   ],
   "source": [
    "sampleFun()"
   ]
  },
  {
   "cell_type": "code",
   "execution_count": 22,
   "metadata": {},
   "outputs": [],
   "source": [
    "def greet(name):\n",
    "    print(\"This is :\", name)"
   ]
  },
  {
   "cell_type": "code",
   "execution_count": 23,
   "metadata": {},
   "outputs": [
    {
     "name": "stdout",
     "output_type": "stream",
     "text": [
      "This is : sandeep\n"
     ]
    }
   ],
   "source": [
    "greet(\"sandeep\")"
   ]
  },
  {
   "cell_type": "code",
   "execution_count": 24,
   "metadata": {},
   "outputs": [],
   "source": [
    "def ipl(team1,team2,scoreTeam1,scoreTeam2):\n",
    "    if scoreTeam1 > scoreTeam2:\n",
    "        print(team1, \"Won the match defeating\", team2)\n",
    "    elif scoreTeam2 > scoreTeam1:\n",
    "        print(team2, \"Won the match defeating\", team1)\n",
    "    else:\n",
    "        print(\"It is a Draw\")"
   ]
  },
  {
   "cell_type": "code",
   "execution_count": 25,
   "metadata": {},
   "outputs": [
    {
     "name": "stdout",
     "output_type": "stream",
     "text": [
      "rr Won the match defeating dc\n"
     ]
    }
   ],
   "source": [
    "ipl(\"dc\",\"rr\",147,150)"
   ]
  },
  {
   "cell_type": "code",
   "execution_count": 38,
   "metadata": {},
   "outputs": [],
   "source": [
    "def addition(a,b,c):\n",
    "    sum = a+b+c\n",
    "    print(sum)"
   ]
  },
  {
   "cell_type": "code",
   "execution_count": 39,
   "metadata": {},
   "outputs": [
    {
     "name": "stdout",
     "output_type": "stream",
     "text": [
      "6\n",
      "6\n"
     ]
    },
    {
     "data": {
      "text/plain": [
       "NoneType"
      ]
     },
     "execution_count": 39,
     "metadata": {},
     "output_type": "execute_result"
    }
   ],
   "source": [
    "addition(1,2,3)\n",
    "a=addition(1,2,3)\n",
    "type(a)"
   ]
  },
  {
   "cell_type": "code",
   "execution_count": 41,
   "metadata": {},
   "outputs": [],
   "source": [
    "def addition(a,b,c):\n",
    "    sum = a+b+c\n",
    "    return sum"
   ]
  },
  {
   "cell_type": "code",
   "execution_count": 42,
   "metadata": {},
   "outputs": [
    {
     "data": {
      "text/plain": [
       "int"
      ]
     },
     "execution_count": 42,
     "metadata": {},
     "output_type": "execute_result"
    }
   ],
   "source": [
    "addition(1,2,3)\n",
    "a=addition(1,2,3)\n",
    "type(a)"
   ]
  },
  {
   "cell_type": "code",
   "execution_count": 57,
   "metadata": {},
   "outputs": [],
   "source": [
    "def addition(*args):\n",
    "    sum = 0\n",
    "    for item in args:\n",
    "        print(item)\n",
    "        sum = sum + item\n",
    "    return sum"
   ]
  },
  {
   "cell_type": "code",
   "execution_count": 59,
   "metadata": {},
   "outputs": [
    {
     "name": "stdout",
     "output_type": "stream",
     "text": [
      "1\n",
      "2\n",
      "3\n",
      "4\n",
      "5\n",
      "6\n",
      "7\n",
      "8\n",
      "9\n",
      "10\n"
     ]
    },
    {
     "data": {
      "text/plain": [
       "55"
      ]
     },
     "execution_count": 59,
     "metadata": {},
     "output_type": "execute_result"
    }
   ],
   "source": [
    "addition(1,2,3,4,5,6,7,8,9,10)\n"
   ]
  },
  {
   "cell_type": "code",
   "execution_count": 62,
   "metadata": {},
   "outputs": [],
   "source": [
    "def getStudentDetails(**kwargs):\n",
    "    for item in kwargs.keys():\n",
    "        print(item, \"-\", kwargs[item])"
   ]
  },
  {
   "cell_type": "code",
   "execution_count": 63,
   "metadata": {},
   "outputs": [
    {
     "name": "stdout",
     "output_type": "stream",
     "text": [
      "name - Sandeep\n",
      "age - 21\n",
      "mobile - 9021861695\n"
     ]
    }
   ],
   "source": [
    "getStudentDetails(name='Sandeep',age='21',mobile='9021861695')"
   ]
  },
  {
   "cell_type": "code",
   "execution_count": 64,
   "metadata": {},
   "outputs": [],
   "source": [
    "def getStudentDetails(**sandeep):\n",
    "    for item in sandeep.keys():\n",
    "        print(item, \"-\", sandeep[item])"
   ]
  },
  {
   "cell_type": "code",
   "execution_count": 65,
   "metadata": {},
   "outputs": [
    {
     "name": "stdout",
     "output_type": "stream",
     "text": [
      "name - Sandeep\n",
      "age - 21\n",
      "mobile - 9021861695\n"
     ]
    }
   ],
   "source": [
    "getStudentDetails(name='Sandeep',age='21',mobile='9021861695')"
   ]
  },
  {
   "cell_type": "code",
   "execution_count": 66,
   "metadata": {},
   "outputs": [],
   "source": [
    "# Libraries"
   ]
  },
  {
   "cell_type": "code",
   "execution_count": 70,
   "metadata": {},
   "outputs": [
    {
     "name": "stdout",
     "output_type": "stream",
     "text": [
      "Collecting weather_forecast\n",
      "  Downloading weather_forecast-0.49.tar.gz (2.7 kB)\n",
      "Collecting geopy\n",
      "  Downloading geopy-2.1.0-py3-none-any.whl (112 kB)\n",
      "Collecting geographiclib<2,>=1.49\n",
      "  Downloading geographiclib-1.50-py3-none-any.whl (38 kB)\n",
      "Building wheels for collected packages: weather-forecast\n",
      "  Building wheel for weather-forecast (setup.py): started\n",
      "  Building wheel for weather-forecast (setup.py): finished with status 'done'\n",
      "  Created wheel for weather-forecast: filename=weather_forecast-0.49-py3-none-any.whl size=3247 sha256=11f396c38ddf5606a97fa7ffc38e00833f970938690cc3b68bc6b9fee09903ab\n",
      "  Stored in directory: c:\\users\\aum\\appdata\\local\\pip\\cache\\wheels\\1d\\70\\f8\\ea7230faee613af310a536e3f677acacfff904b9f22733eeda\n",
      "Successfully built weather-forecast\n",
      "Installing collected packages: geographiclib, geopy, weather-forecast\n",
      "Successfully installed geographiclib-1.50 geopy-2.1.0 weather-forecast-0.49\n",
      "Note: you may need to restart the kernel to use updated packages.\n"
     ]
    }
   ],
   "source": [
    "pip install weather_forecast"
   ]
  },
  {
   "cell_type": "code",
   "execution_count": 76,
   "metadata": {},
   "outputs": [
    {
     "name": "stdout",
     "output_type": "stream",
     "text": [
      "{'date': '2021-04-16',\n",
      " 'day': {'humidity': None,\n",
      "         'narrative': None,\n",
      "         'phrases': None,\n",
      "         'precipitate': None,\n",
      "         'temperature': None,\n",
      "         'uv_description': None,\n",
      "         'wind_speed': None},\n",
      " 'night': {'humidity': 83,\n",
      "           'narrative': 'Generally clear. Low 20ºC. Winds SSW and variable.',\n",
      "           'phrases': 'Mostly Clear',\n",
      "           'precipitate': 3,\n",
      "           'temperature': 20,\n",
      "           'uv_description': 'Low',\n",
      "           'wind_speed': 8},\n",
      " 'place': 'Bangalore',\n",
      " 'time': '23:15:00'}\n"
     ]
    }
   ],
   "source": [
    "import weather_forecast as wf\n",
    "wf.forecast(place = \"Bangalore\" , time=\"23:15:00\" , date=\"2021-04-16\" , forecast=\"daily\")"
   ]
  }
 ],
 "metadata": {
  "kernelspec": {
   "display_name": "Python 3",
   "language": "python",
   "name": "python3"
  },
  "language_info": {
   "codemirror_mode": {
    "name": "ipython",
    "version": 3
   },
   "file_extension": ".py",
   "mimetype": "text/x-python",
   "name": "python",
   "nbconvert_exporter": "python",
   "pygments_lexer": "ipython3",
   "version": "3.8.5"
  }
 },
 "nbformat": 4,
 "nbformat_minor": 4
}
